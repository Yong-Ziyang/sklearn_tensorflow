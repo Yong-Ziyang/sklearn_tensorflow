{
 "cells": [
  {
   "cell_type": "markdown",
   "metadata": {},
   "source": [
    "# Linear SVM"
   ]
  },
  {
   "cell_type": "code",
   "execution_count": 1,
   "metadata": {
    "collapsed": true
   },
   "outputs": [],
   "source": [
    "from sklearn.preprocessing import StandardScaler\n",
    "from sklearn.pipeline import Pipeline\n",
    "from sklearn import datasets\n",
    "from sklearn.svm import LinearSVC\n",
    "import numpy as np\n",
    "from sklearn.svm import SVC"
   ]
  },
  {
   "cell_type": "code",
   "execution_count": 2,
   "metadata": {},
   "outputs": [
    {
     "data": {
      "text/plain": [
       "Pipeline(memory=None,\n",
       "     steps=[('std', StandardScaler(copy=True, with_mean=True, with_std=True)), ('line_svm', LinearSVC(C=0.1, class_weight=None, dual=True, fit_intercept=True,\n",
       "     intercept_scaling=1, loss='hinge', max_iter=1000, multi_class='ovr',\n",
       "     penalty='l2', random_state=None, tol=0.0001, verbose=0))])"
      ]
     },
     "execution_count": 2,
     "metadata": {},
     "output_type": "execute_result"
    }
   ],
   "source": [
    "iris=datasets.load_iris()\n",
    "X=iris.data[:,(2,3)]\n",
    "y=(iris.target==2).astype(np.int)\n",
    "svm_clf=Pipeline(\n",
    "(('std',StandardScaler()),\n",
    " ('line_svm',LinearSVC(C=0.1,loss='hinge'))\n",
    ")\n",
    ")\n",
    "svm_clf.fit(X,y)"
   ]
  },
  {
   "cell_type": "code",
   "execution_count": 3,
   "metadata": {},
   "outputs": [
    {
     "data": {
      "text/plain": [
       "array([0])"
      ]
     },
     "execution_count": 3,
     "metadata": {},
     "output_type": "execute_result"
    }
   ],
   "source": [
    "svm_clf.predict([X[1]])"
   ]
  },
  {
   "cell_type": "markdown",
   "metadata": {},
   "source": [
    "### LinearSVC,SVC是两个不同的函数，LinearSVC是只做线性的，SVC是包含了核函数的一个工具包"
   ]
  },
  {
   "cell_type": "code",
   "execution_count": 4,
   "metadata": {},
   "outputs": [
    {
     "data": {
      "text/plain": [
       "Pipeline(memory=None,\n",
       "     steps=[('poly', PolynomialFeatures(degree=3, include_bias=True, interaction_only=False)), ('std', StandardScaler(copy=True, with_mean=True, with_std=True)), ('svm', LinearSVC(C=10, class_weight=None, dual=True, fit_intercept=True,\n",
       "     intercept_scaling=1, loss='hinge', max_iter=1000, multi_class='ovr',\n",
       "     penalty='l2', random_state=None, tol=0.0001, verbose=0))])"
      ]
     },
     "execution_count": 4,
     "metadata": {},
     "output_type": "execute_result"
    }
   ],
   "source": [
    "from sklearn.pipeline import Pipeline\n",
    "from sklearn.preprocessing import PolynomialFeatures\n",
    "poly_svm=Pipeline((\n",
    "   ('poly',PolynomialFeatures(degree=3,)),\n",
    "   ('std',StandardScaler()),\n",
    "   ('svm',LinearSVC(C=10,loss='hinge'))\n",
    "))\n",
    "poly_svm.fit(X,y)"
   ]
  },
  {
   "cell_type": "code",
   "execution_count": 5,
   "metadata": {},
   "outputs": [
    {
     "data": {
      "text/plain": [
       "array([1])"
      ]
     },
     "execution_count": 5,
     "metadata": {},
     "output_type": "execute_result"
    }
   ],
   "source": [
    "poly_svm.predict([X[100]])"
   ]
  },
  {
   "cell_type": "code",
   "execution_count": 14,
   "metadata": {},
   "outputs": [
    {
     "data": {
      "text/plain": [
       "1"
      ]
     },
     "execution_count": 14,
     "metadata": {},
     "output_type": "execute_result"
    }
   ],
   "source": [
    "y[100]"
   ]
  },
  {
   "cell_type": "code",
   "execution_count": 13,
   "metadata": {},
   "outputs": [
    {
     "data": {
      "text/plain": [
       "10"
      ]
     },
     "execution_count": 13,
     "metadata": {},
     "output_type": "execute_result"
    }
   ],
   "source": [
    "poly_svm.named_steps.poly.n_output_features_"
   ]
  },
  {
   "cell_type": "markdown",
   "metadata": {
    "collapsed": true
   },
   "source": [
    "### 上面这个虽然能将二维数据转化为10个维度的数据，这个意思其实就和核函数所代表的意思很像了，在这里，我们来谈一下核函数的具体用法。"
   ]
  },
  {
   "cell_type": "markdown",
   "metadata": {
    "collapsed": true
   },
   "source": [
    "# Polynomial SVM"
   ]
  },
  {
   "cell_type": "code",
   "execution_count": 17,
   "metadata": {},
   "outputs": [
    {
     "data": {
      "text/plain": [
       "Pipeline(memory=None,\n",
       "     steps=[('std', StandardScaler(copy=True, with_mean=True, with_std=True)), ('svc', SVC(C=10, cache_size=200, class_weight=None, coef0=0.0,\n",
       "  decision_function_shape='ovr', degree=3, gamma='auto', kernel='poly',\n",
       "  max_iter=-1, probability=False, random_state=None, shrinking=True,\n",
       "  tol=0.001, verbose=False))])"
      ]
     },
     "execution_count": 17,
     "metadata": {},
     "output_type": "execute_result"
    }
   ],
   "source": [
    "poly_svc=Pipeline((\n",
    "('std',StandardScaler()),\n",
    "    ('svc',SVC(C=10,kernel='poly'))\n",
    "))\n",
    "poly_svc.fit(X,y)"
   ]
  },
  {
   "cell_type": "code",
   "execution_count": 19,
   "metadata": {},
   "outputs": [
    {
     "data": {
      "text/plain": [
       "array([1])"
      ]
     },
     "execution_count": 19,
     "metadata": {},
     "output_type": "execute_result"
    }
   ],
   "source": [
    "poly_svc.predict([X[100]])"
   ]
  },
  {
   "cell_type": "code",
   "execution_count": 20,
   "metadata": {},
   "outputs": [
    {
     "data": {
      "text/plain": [
       "1"
      ]
     },
     "execution_count": 20,
     "metadata": {},
     "output_type": "execute_result"
    }
   ],
   "source": [
    "y[100]"
   ]
  },
  {
   "cell_type": "code",
   "execution_count": 22,
   "metadata": {},
   "outputs": [
    {
     "data": {
      "text/plain": [
       "array([[97,  3],\n",
       "       [ 3, 47]], dtype=int64)"
      ]
     },
     "execution_count": 22,
     "metadata": {},
     "output_type": "execute_result"
    }
   ],
   "source": [
    "from sklearn.metrics import confusion_matrix\n",
    "confusion_matrix(y,poly_svc.predict(X))"
   ]
  },
  {
   "cell_type": "markdown",
   "metadata": {
    "collapsed": true
   },
   "source": [
    "# Large DataSet Support Vector Machine"
   ]
  },
  {
   "cell_type": "code",
   "execution_count": 2,
   "metadata": {},
   "outputs": [],
   "source": [
    "from sklearn import datasets\n",
    "from sklearn.svm import SVC\n",
    "from sklearn.svm import LinearSVC\n",
    "iris=datasets.load_iris()\n",
    "X=iris.data\n",
    "y=iris.target\n",
    "v_or_s=(y==1)|(y==0)\n",
    "y=y[v_or_s]\n",
    "X=X[v_or_s][:,(2,3)]\n",
    "svc_iris=SVC(C=float('inf'),kernel='linear')\n",
    "line_svc=LinearSVC(C=float('inf'))"
   ]
  },
  {
   "cell_type": "code",
   "execution_count": 3,
   "metadata": {},
   "outputs": [
    {
     "data": {
      "text/plain": [
       "array([0])"
      ]
     },
     "execution_count": 3,
     "metadata": {},
     "output_type": "execute_result"
    }
   ],
   "source": [
    "svc_iris.fit(X,y)\n",
    "svc_iris.predict([X[1]])"
   ]
  },
  {
   "cell_type": "code",
   "execution_count": 4,
   "metadata": {},
   "outputs": [
    {
     "data": {
      "text/plain": [
       "array([0])"
      ]
     },
     "execution_count": 4,
     "metadata": {},
     "output_type": "execute_result"
    }
   ],
   "source": [
    "line_svc.fit(X,y)\n",
    "line_svc.predict([X[1]])"
   ]
  },
  {
   "cell_type": "code",
   "execution_count": 5,
   "metadata": {},
   "outputs": [],
   "source": [
    "import numpy as np\n",
    "import matplotlib.pyplot as plt\n",
    "def plot_svm_margin(svm_model,xmin,xmax):\n",
    "    x0_scale=np.linspace(xmin,xmax,200)\n",
    "    [w]=svm_model.coef_\n",
    "    [b]=svm_model.intercept_\n",
    "    # change the model x0*wo+x1*w1+b=0 to x1=-(w0/w1)*x0-b/w1\n",
    "    x1=-(w[0]/w[1])*x0_scale-b/w[1] # this line is max margin line\n",
    "    # x0*w0+x1*w1+b=1 and x0*w0+x1*w1+b=-1 \n",
    "    x1_up=x1+1/w[1]\n",
    "    x1_down=x1-1/w[1]\n",
    "    plt.xlim(xmin,xmax)\n",
    "    plt.plot(x0_scale,x1,'-',label='margin')\n",
    "    plt.plot(x0_scale,x1_up,'--',label='upper margin')\n",
    "    plt.plot(x0_scale,x1_down,'--',label='lower margin')"
   ]
  },
  {
   "cell_type": "code",
   "execution_count": 6,
   "metadata": {},
   "outputs": [
    {
     "data": {
      "image/png": "[encoded data removed]",
      "text/plain": [
       "<matplotlib.figure.Figure at 0x219f494d8d0>"
      ]
     },
     "metadata": {},
     "output_type": "display_data"
    }
   ],
   "source": [
    "plt.scatter(svc_iris.support_vectors_[:,0],svc_iris.support_vectors_[:,1],s=120,edgecolors='y')\n",
    "plot_svm_margin(svc_iris,0,5.5)\n",
    "plt.legend(loc='lower left')\n",
    "plt.plot(X[(y==1)][:,0],X[(y==1)][:,1],'o')\n",
    "plt.plot(X[(y==0)][:,0],X[(y==0)][:,1],'^')\n",
    "plt.xlabel(iris.feature_names[2])\n",
    "plt.ylabel(iris.feature_names[3])\n",
    "plt.ylim(-1,2)\n",
    "plt.show()"
   ]
  },
  {
   "cell_type": "markdown",
   "metadata": {},
   "source": [
    "# Sensitivity To Feature Scaled"
   ]
  },
  {
   "cell_type": "code",
   "execution_count": 7,
   "metadata": {},
   "outputs": [
    {
     "data": {
      "image/png": "[encoded data removed]",
      "text/plain": [
       "<matplotlib.figure.Figure at 0x219f4d8d240>"
      ]
     },
     "metadata": {},
     "output_type": "display_data"
    }
   ],
   "source": [
    "Xs=np.array([[1,50],[5,20],[3,80],[5,60]]).astype(np.float32)\n",
    "ys=np.array([0,0,1,1])\n",
    "svc_iris.fit(Xs,ys)\n",
    "plt.figure(figsize=(10,10))\n",
    "plt.subplot(211)\n",
    "plt.plot(Xs[ys==0][:,0],Xs[ys==0][:,1],'yo')\n",
    "plt.plot(Xs[ys==1][:,0],Xs[ys==1][:,1],'r^')\n",
    "plot_svm_margin(svc_iris,0,6)\n",
    "plt.title('Unscaled')\n",
    "from sklearn.preprocessing import StandardScaler\n",
    "sca=StandardScaler()\n",
    "X_scale=sca.fit_transform(Xs)\n",
    "svc_iris.fit(X_scale,ys)\n",
    "plt.subplot(212)\n",
    "plt.plot(X_scale[ys==0][:,0],X_scale[ys==0][:,1],'yo')\n",
    "plt.plot(X_scale[ys==1][:,0],X_scale[ys==1][:,1],'r^')\n",
    "plot_svm_margin(svc_iris,-2,2)\n",
    "plt.title('Scaled')\n",
    "plt.show()\n",
    "plt.close()"
   ]
  },
  {
   "cell_type": "markdown",
   "metadata": {},
   "source": [
    "### 你可以看到Scaled之后的，下边界的两个点都是支持向量，而上边界的的另一个点也接近支持向量了，Unscaled的点只有两个是支持向量，其他的均不是，支持向量机Sensitivity to Scaled"
   ]
  },
  {
   "cell_type": "markdown",
   "metadata": {},
   "source": [
    "# Sensitivity To Outliners"
   ]
  },
  {
   "cell_type": "code",
   "execution_count": 25,
   "metadata": {},
   "outputs": [
    {
     "data": {
      "image/png": "[encoded data removed]",
      "text/plain": [
       "<matplotlib.figure.Figure at 0x219f494dda0>"
      ]
     },
     "metadata": {},
     "output_type": "display_data"
    }
   ],
   "source": [
    "X_outliers=np.array([[3.4,1.3],[3.2,0.8]])\n",
    "y_outliers=np.array([0,0])\n",
    "Xo1=np.concatenate([X,X_outliers[:1]],axis=0)\n",
    "yo1=np.concatenate([y,y_outliers[:1]],axis=0)\n",
    "Xo2=np.concatenate([X,X_outliers[1:]],axis=0)\n",
    "yo2=np.concatenate([y,y_outliers[1:]],axis=0)\n",
    "# svm_outliners.fit(Xo1,yo1) 因为离群过远，所以这个是无法执行的\n",
    "plt.xlim(0,5.5)\n",
    "plt.text(0.3,1,'Impossible',fontsize=18,color='red')\n",
    "plt.plot(Xo1[yo1==0][:,0],Xo1[yo1==0][:,1],'yo')\n",
    "plt.plot(Xo1[yo1==1][:,0],Xo1[yo1==1][:,1],'r^')\n",
    "plt.annotate(\"Outlier\",\n",
    "             xy=(X_outliers[0][0], X_outliers[0][1]),\n",
    "             xytext=(2.5, 1.7),\n",
    "             ha=\"center\",\n",
    "             arrowprops=dict(facecolor='black', shrink=0.1),\n",
    "             fontsize=16,\n",
    "            )\n",
    "plt.show()\n",
    "plt.close()"
   ]
  },
  {
   "cell_type": "markdown",
   "metadata": {},
   "source": [
    "### 当线性svm的C无穷大时，这个是无法进行分类的，当然如果变成kernelized的SVM就可以进行分类了"
   ]
  },
  {
   "cell_type": "code",
   "execution_count": 26,
   "metadata": {},
   "outputs": [
    {
     "data": {
      "image/png": "[encoded data removed]",
      "text/plain": [
       "<matplotlib.figure.Figure at 0x219f6774668>"
      ]
     },
     "metadata": {},
     "output_type": "display_data"
    }
   ],
   "source": [
    "svm_outliers=SVC(C=float('inf'),kernel='linear')\n",
    "svm_outliers.fit(Xo2,yo2)\n",
    "plt.plot(Xo2[yo2==0][:,0],Xo2[yo2==0][:,1],'ro')\n",
    "plt.plot(Xo2[yo2==1][:,0],Xo2[yo2==1][:,1],'y^')\n",
    "plot_svm_margin(svm_outliners,0,5)\n",
    "plt.annotate(\"Outlier\",\n",
    "             xy=(X_outliers[1][0], X_outliers[1][1]),\n",
    "             xytext=(2.5, 0.5),\n",
    "             ha=\"center\",\n",
    "             arrowprops=dict(facecolor='black', shrink=0.1),\n",
    "             fontsize=16,\n",
    "            )\n",
    "plt.show()\n",
    "plt.close()"
   ]
  },
  {
   "cell_type": "markdown",
   "metadata": {},
   "source": [
    "### 与上面相比，虽然也是离群点，但是这个线性SVM是可以分割的"
   ]
  },
  {
   "cell_type": "markdown",
   "metadata": {},
   "source": [
    "# Something about SVM"
   ]
  },
  {
   "cell_type": "code",
   "execution_count": 65,
   "metadata": {},
   "outputs": [
    {
     "data": {
      "text/plain": [
       "Pipeline(memory=None,\n",
       "     steps=[('scaler', StandardScaler(copy=True, with_mean=True, with_std=True)), ('lsvc2', LinearSVC(C=100, class_weight=None, dual=True, fit_intercept=True,\n",
       "     intercept_scaling=1, loss='hinge', max_iter=1000, multi_class='ovr',\n",
       "     penalty='l2', random_state=42, tol=0.0001, verbose=0))])"
      ]
     },
     "execution_count": 65,
     "metadata": {},
     "output_type": "execute_result"
    }
   ],
   "source": [
    "from sklearn.pipeline import Pipeline\n",
    "scaler=StandardScaler()\n",
    "svm_clf1=LinearSVC(C=1,loss='hinge',random_state=42)\n",
    "svm_clf2=LinearSVC(C=100,loss='hinge',random_state=42)\n",
    "\n",
    "scaled_svm_clf1=Pipeline((\n",
    "('scaler',scaler),\n",
    "('lsvc1',svm_clf1)\n",
    "))\n",
    "\n",
    "scaled_svm_clf2=Pipeline((\n",
    "    ('scaler',scaler),\n",
    "    ('lsvc2',svm_clf2)\n",
    "))\n",
    "scaled_svm_clf1.fit(X,y)\n",
    "scaled_svm_clf2.fit(X,y)"
   ]
  },
  {
   "cell_type": "code",
   "execution_count": 66,
   "metadata": {},
   "outputs": [
    {
     "data": {
      "text/plain": [
       "array([-3.20506735])"
      ]
     },
     "execution_count": 66,
     "metadata": {},
     "output_type": "execute_result"
    }
   ],
   "source": [
    "svm_clf1.decision_function([-scaler.mean_/scaler.scale_])"
   ]
  },
  {
   "cell_type": "code",
   "execution_count": null,
   "metadata": {
    "collapsed": true
   },
   "outputs": [],
   "source": []
  },
  {
   "cell_type": "code",
   "execution_count": 63,
   "metadata": {},
   "outputs": [
    {
     "data": {
      "text/plain": [
       "LinearSVC(C=1, class_weight=None, dual=True, fit_intercept=True,\n",
       "     intercept_scaling=1, loss='hinge', max_iter=1000, multi_class='ovr',\n",
       "     penalty='l2', random_state=42, tol=0.0001, verbose=0)"
      ]
     },
     "execution_count": 63,
     "metadata": {},
     "output_type": "execute_result"
    }
   ],
   "source": [
    "svm_clf1.fit(X,y)"
   ]
  },
  {
   "cell_type": "code",
   "execution_count": 64,
   "metadata": {},
   "outputs": [
    {
     "data": {
      "text/plain": [
       "array([-2.56491228])"
      ]
     },
     "execution_count": 64,
     "metadata": {},
     "output_type": "execute_result"
    }
   ],
   "source": [
    "svm_clf1.intercept_"
   ]
  }
 ],
 "metadata": {
  "kernelspec": {
   "display_name": "Python 3",
   "language": "python",
   "name": "python3"
  },
  "language_info": {
   "codemirror_mode": {
    "name": "ipython",
    "version": 3
   },
   "file_extension": ".py",
   "mimetype": "text/x-python",
   "name": "python",
   "nbconvert_exporter": "python",
   "pygments_lexer": "ipython3",
   "version": "3.6.3"
  }
 },
 "nbformat": 4,
 "nbformat_minor": 2
}
